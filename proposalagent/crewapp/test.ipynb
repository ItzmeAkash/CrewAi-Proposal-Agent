{
 "cells": [
  {
   "cell_type": "code",
   "execution_count": 1,
   "metadata": {},
   "outputs": [
    {
     "name": "stdout",
     "output_type": "stream",
     "text": [
      "Hllo\n"
     ]
    }
   ],
   "source": [
    "print(\"Hllo\")\n"
   ]
  },
  {
   "cell_type": "code",
   "execution_count": 3,
   "metadata": {},
   "outputs": [],
   "source": [
    "# Define the file path\n",
    "\n",
    "import os\n",
    "import pandas as pd\n",
    "\n",
    "\n",
    "file_path =  'excel.txt'\n",
    "\n",
    "# Read the file\n",
    "with open(file_path, 'r') as file:\n",
    "    lines = file.readlines()\n",
    "\n",
    "# Initialize a dictionary to hold the parsed data\n",
    "data = {}\n",
    "\n",
    "# Process each line to normalize and parse it\n",
    "for line in lines:\n",
    "    line = line.strip()\n",
    "    if line.startswith(\"**\"):\n",
    "        line = line[2:].strip()\n",
    "    elif line.startswith(\"-\"):\n",
    "        line = line[1:].strip()\n",
    "\n",
    "    if ':' in line:\n",
    "        key, value = line.split(':', 1)\n",
    "        key = key.strip()\n",
    "        value = value.strip()\n",
    "\n",
    "        # Check if the key already exists in the dictionary\n",
    "        if key not in data:\n",
    "            data[key] = value\n",
    "        else:\n",
    "            # If the key exists, you can implement a rule to decide which value to keep\n",
    "            # For example, prefer the value from the \"**\" line over the \"-\" line\n",
    "            if line.startswith(\"**\"):\n",
    "                data[key] = value\n",
    "\n",
    "# Convert the dictionary into a DataFrame\n",
    "exceldf = pd.DataFrame([data])\n",
    "\n",
    "exceldf.columns = exceldf.columns.str.replace(r'\\W+', '', regex=True).str.lower()"
   ]
  },
  {
   "cell_type": "code",
   "execution_count": 4,
   "metadata": {},
   "outputs": [
    {
     "data": {
      "text/plain": [
       "Index(['opportunitynumber', 'suppliermatch', 'suppliersmatchingproduct',\n",
       "       'localpartnerrequirements', 'requirementdetails'],\n",
       "      dtype='object')"
      ]
     },
     "execution_count": 4,
     "metadata": {},
     "output_type": "execute_result"
    }
   ],
   "source": [
    "exceldf.columns\n"
   ]
  },
  {
   "cell_type": "code",
   "execution_count": null,
   "metadata": {},
   "outputs": [],
   "source": []
  }
 ],
 "metadata": {
  "kernelspec": {
   "display_name": "crewai",
   "language": "python",
   "name": "python3"
  },
  "language_info": {
   "codemirror_mode": {
    "name": "ipython",
    "version": 3
   },
   "file_extension": ".py",
   "mimetype": "text/x-python",
   "name": "python",
   "nbconvert_exporter": "python",
   "pygments_lexer": "ipython3",
   "version": "3.12.4"
  }
 },
 "nbformat": 4,
 "nbformat_minor": 2
}
